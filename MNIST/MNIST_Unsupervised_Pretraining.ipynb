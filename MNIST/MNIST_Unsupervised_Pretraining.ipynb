{
  "nbformat": 4,
  "nbformat_minor": 0,
  "metadata": {
    "accelerator": "GPU",
    "colab": {
      "provenance": [],
      "toc_visible": true
    },
    "kernelspec": {
      "display_name": "Python 3",
      "language": "python",
      "name": "python3"
    },
    "language_info": {
      "codemirror_mode": {
        "name": "ipython",
        "version": 3
      },
      "file_extension": ".py",
      "mimetype": "text/x-python",
      "name": "python",
      "nbconvert_exporter": "python",
      "pygments_lexer": "ipython3",
      "version": "3.6.8"
    }
  },
  "cells": [
    {
      "cell_type": "markdown",
      "metadata": {
        "id": "1a8GrT-0XRs-"
      },
      "source": [
        "## **Import Libraries and modules**"
      ]
    },
    {
      "cell_type": "code",
      "metadata": {
        "id": "O05q4MVuPTz1"
      },
      "source": [
        "import numpy as np\n",
        "\n",
        "from tensorflow.keras.models import Model\n",
        "from tensorflow.keras.layers import Dense, Input\n",
        "\n",
        "from keras.utils import np_utils\n",
        "\n",
        "from tensorflow.keras.datasets import mnist"
      ],
      "execution_count": null,
      "outputs": []
    },
    {
      "cell_type": "markdown",
      "metadata": {
        "id": "TD4-KvXUXV9e"
      },
      "source": [
        "## Load MNIST data into train and test sets"
      ]
    },
    {
      "cell_type": "code",
      "metadata": {
        "id": "7AZzBMuJPggG"
      },
      "source": [
        "(X_train, y_train), (X_test, y_test) = mnist.load_data()"
      ],
      "execution_count": null,
      "outputs": []
    },
    {
      "cell_type": "code",
      "metadata": {
        "id": "vdg6HGp8PjBP",
        "colab": {
          "base_uri": "https://localhost:8080/"
        },
        "outputId": "a5aa1fed-f766-4f45-df87-c786bdead2f0"
      },
      "source": [
        "print(X_train.shape)"
      ],
      "execution_count": null,
      "outputs": [
        {
          "output_type": "stream",
          "text": [
            "(60000, 28, 28)\n"
          ],
          "name": "stdout"
        }
      ]
    },
    {
      "cell_type": "markdown",
      "metadata": {
        "id": "zlbK8j6HI-Au"
      },
      "source": [
        "## Splitting the training data (50%) for autoencoders and classification"
      ]
    },
    {
      "cell_type": "code",
      "metadata": {
        "id": "8ECaX9iAgfe7"
      },
      "source": [
        "from sklearn.model_selection import train_test_split"
      ],
      "execution_count": null,
      "outputs": []
    },
    {
      "cell_type": "code",
      "metadata": {
        "id": "nQCNXsZpgfjQ"
      },
      "source": [
        "X_train_unsup, X_train_sup, y_train_unsup, y_train_sup = train_test_split(\n",
        "    X_train, y_train, test_size=0.5, random_state=123)"
      ],
      "execution_count": null,
      "outputs": []
    },
    {
      "cell_type": "code",
      "metadata": {
        "id": "Ef15PcRBhVBT",
        "colab": {
          "base_uri": "https://localhost:8080/"
        },
        "outputId": "511c4930-7075-4c20-abb6-3192545404e6"
      },
      "source": [
        "print (X_train_unsup.shape, X_train_sup.shape, y_train_unsup.shape, y_train_sup.shape)"
      ],
      "execution_count": null,
      "outputs": [
        {
          "output_type": "stream",
          "text": [
            "(30000, 28, 28) (30000, 28, 28) (30000,) (30000,)\n"
          ],
          "name": "stdout"
        }
      ]
    },
    {
      "cell_type": "code",
      "metadata": {
        "id": "rvzkX48sjjaE"
      },
      "source": [
        "# flatten 28*28 images to a 784 vector for each image\n",
        "num_pixels = X_train_unsup.shape[1] * X_train_unsup.shape[2]\n",
        "\n",
        "X_train_unsup = X_train_unsup.reshape((X_train_unsup.shape[0], num_pixels)).astype('float32')\n",
        "X_test = X_test.reshape((X_test.shape[0], num_pixels)).astype('float32')\n",
        "X_train_sup =  X_train_sup.reshape((X_train_sup.shape[0], num_pixels)).astype('float32')"
      ],
      "execution_count": null,
      "outputs": []
    },
    {
      "cell_type": "markdown",
      "metadata": {
        "id": "2LMe7SEVIeT8"
      },
      "source": [
        "## Pixel Normalization"
      ]
    },
    {
      "cell_type": "code",
      "metadata": {
        "id": "XLtBB7iaodZK"
      },
      "source": [
        "X_train_unsup  /= 255\n",
        "X_train_sup  /= 255\n",
        "X_test /= 255"
      ],
      "execution_count": null,
      "outputs": []
    },
    {
      "cell_type": "code",
      "metadata": {
        "id": "vjyzyaBpCPuU",
        "colab": {
          "base_uri": "https://localhost:8080/"
        },
        "outputId": "332641a6-ce80-459a-834e-0359e9dcc350"
      },
      "source": [
        "print (X_train_unsup.shape, X_train_sup.shape, y_train_unsup.shape, y_train_sup.shape)"
      ],
      "execution_count": null,
      "outputs": [
        {
          "output_type": "stream",
          "text": [
            "(30000, 784) (30000, 784) (30000,) (30000,)\n"
          ],
          "name": "stdout"
        }
      ]
    },
    {
      "cell_type": "markdown",
      "metadata": {
        "id": "iLnMlBF_EweA"
      },
      "source": [
        "## Unsupervised Pretraining - Model"
      ]
    },
    {
      "cell_type": "code",
      "metadata": {
        "id": "cl3vY-DRhpLz",
        "colab": {
          "base_uri": "https://localhost:8080/"
        },
        "outputId": "9cd654b6-2134-4d13-98fd-58e858b90949"
      },
      "source": [
        "input_dim = 784\n",
        "\n",
        "input_layer = Input(shape=(input_dim, ))\n",
        "\n",
        "encoder = Dense(500, activation='tanh')(input_layer)\n",
        "coding = Dense(250, activation='tanh')(encoder)\n",
        "decoder = Dense(500, activation='tanh')(coding)\n",
        "\n",
        "ouput_layer = Dense(input_dim)(decoder)\n",
        "\n",
        "autoencoder = Model(inputs=input_layer, outputs=ouput_layer)\n",
        "\n",
        "autoencoder.summary()"
      ],
      "execution_count": null,
      "outputs": [
        {
          "output_type": "stream",
          "text": [
            "Model: \"functional_3\"\n",
            "_________________________________________________________________\n",
            "Layer (type)                 Output Shape              Param #   \n",
            "=================================================================\n",
            "input_2 (InputLayer)         [(None, 784)]             0         \n",
            "_________________________________________________________________\n",
            "dense_4 (Dense)              (None, 500)               392500    \n",
            "_________________________________________________________________\n",
            "dense_5 (Dense)              (None, 250)               125250    \n",
            "_________________________________________________________________\n",
            "dense_6 (Dense)              (None, 500)               125500    \n",
            "_________________________________________________________________\n",
            "dense_7 (Dense)              (None, 784)               392784    \n",
            "=================================================================\n",
            "Total params: 1,036,034\n",
            "Trainable params: 1,036,034\n",
            "Non-trainable params: 0\n",
            "_________________________________________________________________\n"
          ],
          "name": "stdout"
        }
      ]
    },
    {
      "cell_type": "markdown",
      "metadata": {
        "id": "AJA6BJS_JUcL"
      },
      "source": [
        "### Configuring Parameters"
      ]
    },
    {
      "cell_type": "code",
      "metadata": {
        "id": "5FTVx32Hmp-L"
      },
      "source": [
        "epochs = 100\n",
        "batch_size=128"
      ],
      "execution_count": null,
      "outputs": []
    },
    {
      "cell_type": "markdown",
      "metadata": {
        "id": "ECQQ2MF6JYGB"
      },
      "source": [
        "### Model compiling and fitting"
      ]
    },
    {
      "cell_type": "code",
      "metadata": {
        "id": "8A9fIdDyPfdS"
      },
      "source": [
        "from tensorflow.keras.optimizers import SGD"
      ],
      "execution_count": null,
      "outputs": []
    },
    {
      "cell_type": "code",
      "metadata": {
        "id": "5C68X-_ghpN7"
      },
      "source": [
        "autoencoder.compile(optimizer=SGD(lr=0.01, momentum=0.9),\n",
        "                    loss='mean_squared_error')"
      ],
      "execution_count": null,
      "outputs": []
    },
    {
      "cell_type": "code",
      "metadata": {
        "id": "XbISVbDfrxIK",
        "colab": {
          "base_uri": "https://localhost:8080/"
        },
        "outputId": "48f7b4ea-9de9-4c55-d214-fb4bf2e0a1ed"
      },
      "source": [
        "autoencoder.fit(x=X_train_unsup, y=X_train_unsup,\n",
        "                    epochs=epochs,\n",
        "                    batch_size=batch_size,\n",
        "                    shuffle=True,\n",
        "                    verbose=1)"
      ],
      "execution_count": null,
      "outputs": [
        {
          "output_type": "stream",
          "text": [
            "Epoch 1/100\n",
            "235/235 [==============================] - 1s 2ms/step - loss: 0.1008\n",
            "Epoch 2/100\n",
            "235/235 [==============================] - 1s 2ms/step - loss: 0.0686\n",
            "Epoch 3/100\n",
            "235/235 [==============================] - 1s 2ms/step - loss: 0.0622\n",
            "Epoch 4/100\n",
            "235/235 [==============================] - 1s 2ms/step - loss: 0.0577\n",
            "Epoch 5/100\n",
            "235/235 [==============================] - 1s 2ms/step - loss: 0.0541\n",
            "Epoch 6/100\n",
            "235/235 [==============================] - 1s 2ms/step - loss: 0.0508\n",
            "Epoch 7/100\n",
            "235/235 [==============================] - 1s 2ms/step - loss: 0.0480\n",
            "Epoch 8/100\n",
            "235/235 [==============================] - 1s 2ms/step - loss: 0.0456\n",
            "Epoch 9/100\n",
            "235/235 [==============================] - 1s 2ms/step - loss: 0.0435\n",
            "Epoch 10/100\n",
            "235/235 [==============================] - 1s 2ms/step - loss: 0.0416\n",
            "Epoch 11/100\n",
            "235/235 [==============================] - 1s 2ms/step - loss: 0.0400\n",
            "Epoch 12/100\n",
            "235/235 [==============================] - 1s 2ms/step - loss: 0.0385\n",
            "Epoch 13/100\n",
            "235/235 [==============================] - 1s 2ms/step - loss: 0.0373\n",
            "Epoch 14/100\n",
            "235/235 [==============================] - 1s 2ms/step - loss: 0.0361\n",
            "Epoch 15/100\n",
            "235/235 [==============================] - 1s 2ms/step - loss: 0.0351\n",
            "Epoch 16/100\n",
            "235/235 [==============================] - 1s 2ms/step - loss: 0.0341\n",
            "Epoch 17/100\n",
            "235/235 [==============================] - 1s 2ms/step - loss: 0.0332\n",
            "Epoch 18/100\n",
            "235/235 [==============================] - 1s 2ms/step - loss: 0.0324\n",
            "Epoch 19/100\n",
            "235/235 [==============================] - 1s 2ms/step - loss: 0.0317\n",
            "Epoch 20/100\n",
            "235/235 [==============================] - 1s 2ms/step - loss: 0.0309\n",
            "Epoch 21/100\n",
            "235/235 [==============================] - 1s 2ms/step - loss: 0.0303\n",
            "Epoch 22/100\n",
            "235/235 [==============================] - 1s 2ms/step - loss: 0.0296\n",
            "Epoch 23/100\n",
            "235/235 [==============================] - 1s 2ms/step - loss: 0.0290\n",
            "Epoch 24/100\n",
            "235/235 [==============================] - 1s 2ms/step - loss: 0.0285\n",
            "Epoch 25/100\n",
            "235/235 [==============================] - 1s 2ms/step - loss: 0.0279\n",
            "Epoch 26/100\n",
            "235/235 [==============================] - 1s 2ms/step - loss: 0.0274\n",
            "Epoch 27/100\n",
            "235/235 [==============================] - 1s 2ms/step - loss: 0.0269\n",
            "Epoch 28/100\n",
            "235/235 [==============================] - 1s 2ms/step - loss: 0.0265\n",
            "Epoch 29/100\n",
            "235/235 [==============================] - 1s 2ms/step - loss: 0.0260\n",
            "Epoch 30/100\n",
            "235/235 [==============================] - 1s 2ms/step - loss: 0.0256\n",
            "Epoch 31/100\n",
            "235/235 [==============================] - 1s 2ms/step - loss: 0.0252\n",
            "Epoch 32/100\n",
            "235/235 [==============================] - 1s 2ms/step - loss: 0.0248\n",
            "Epoch 33/100\n",
            "235/235 [==============================] - 1s 2ms/step - loss: 0.0244\n",
            "Epoch 34/100\n",
            "235/235 [==============================] - 1s 2ms/step - loss: 0.0240\n",
            "Epoch 35/100\n",
            "235/235 [==============================] - 1s 2ms/step - loss: 0.0237\n",
            "Epoch 36/100\n",
            "235/235 [==============================] - 1s 2ms/step - loss: 0.0233\n",
            "Epoch 37/100\n",
            "235/235 [==============================] - 1s 2ms/step - loss: 0.0230\n",
            "Epoch 38/100\n",
            "235/235 [==============================] - 1s 2ms/step - loss: 0.0227\n",
            "Epoch 39/100\n",
            "235/235 [==============================] - 1s 2ms/step - loss: 0.0224\n",
            "Epoch 40/100\n",
            "235/235 [==============================] - 1s 2ms/step - loss: 0.0221\n",
            "Epoch 41/100\n",
            "235/235 [==============================] - 1s 2ms/step - loss: 0.0218\n",
            "Epoch 42/100\n",
            "235/235 [==============================] - 1s 2ms/step - loss: 0.0216\n",
            "Epoch 43/100\n",
            "235/235 [==============================] - 1s 2ms/step - loss: 0.0213\n",
            "Epoch 44/100\n",
            "235/235 [==============================] - 1s 2ms/step - loss: 0.0210\n",
            "Epoch 45/100\n",
            "235/235 [==============================] - 1s 2ms/step - loss: 0.0208\n",
            "Epoch 46/100\n",
            "235/235 [==============================] - 1s 2ms/step - loss: 0.0206\n",
            "Epoch 47/100\n",
            "235/235 [==============================] - 1s 2ms/step - loss: 0.0203\n",
            "Epoch 48/100\n",
            "235/235 [==============================] - 1s 2ms/step - loss: 0.0201\n",
            "Epoch 49/100\n",
            "235/235 [==============================] - 1s 2ms/step - loss: 0.0199\n",
            "Epoch 50/100\n",
            "235/235 [==============================] - 1s 2ms/step - loss: 0.0197\n",
            "Epoch 51/100\n",
            "235/235 [==============================] - 1s 2ms/step - loss: 0.0195\n",
            "Epoch 52/100\n",
            "235/235 [==============================] - 1s 2ms/step - loss: 0.0193\n",
            "Epoch 53/100\n",
            "235/235 [==============================] - 1s 2ms/step - loss: 0.0191\n",
            "Epoch 54/100\n",
            "235/235 [==============================] - 1s 2ms/step - loss: 0.0189\n",
            "Epoch 55/100\n",
            "235/235 [==============================] - 1s 2ms/step - loss: 0.0187\n",
            "Epoch 56/100\n",
            "235/235 [==============================] - 1s 2ms/step - loss: 0.0185\n",
            "Epoch 57/100\n",
            "235/235 [==============================] - 1s 2ms/step - loss: 0.0183\n",
            "Epoch 58/100\n",
            "235/235 [==============================] - 1s 2ms/step - loss: 0.0182\n",
            "Epoch 59/100\n",
            "235/235 [==============================] - 1s 2ms/step - loss: 0.0180\n",
            "Epoch 60/100\n",
            "235/235 [==============================] - 1s 2ms/step - loss: 0.0178\n",
            "Epoch 61/100\n",
            "235/235 [==============================] - 1s 2ms/step - loss: 0.0177\n",
            "Epoch 62/100\n",
            "235/235 [==============================] - 1s 2ms/step - loss: 0.0175\n",
            "Epoch 63/100\n",
            "235/235 [==============================] - 1s 2ms/step - loss: 0.0174\n",
            "Epoch 64/100\n",
            "235/235 [==============================] - 1s 2ms/step - loss: 0.0172\n",
            "Epoch 65/100\n",
            "235/235 [==============================] - 1s 2ms/step - loss: 0.0171\n",
            "Epoch 66/100\n",
            "235/235 [==============================] - 1s 2ms/step - loss: 0.0169\n",
            "Epoch 67/100\n",
            "235/235 [==============================] - 1s 2ms/step - loss: 0.0168\n",
            "Epoch 68/100\n",
            "235/235 [==============================] - 1s 2ms/step - loss: 0.0167\n",
            "Epoch 69/100\n",
            "235/235 [==============================] - 1s 2ms/step - loss: 0.0165\n",
            "Epoch 70/100\n",
            "235/235 [==============================] - 1s 2ms/step - loss: 0.0164\n",
            "Epoch 71/100\n",
            "235/235 [==============================] - 1s 2ms/step - loss: 0.0163\n",
            "Epoch 72/100\n",
            "235/235 [==============================] - 1s 2ms/step - loss: 0.0162\n",
            "Epoch 73/100\n",
            "235/235 [==============================] - 1s 2ms/step - loss: 0.0160\n",
            "Epoch 74/100\n",
            "235/235 [==============================] - 1s 2ms/step - loss: 0.0159\n",
            "Epoch 75/100\n",
            "235/235 [==============================] - 1s 2ms/step - loss: 0.0158\n",
            "Epoch 76/100\n",
            "235/235 [==============================] - 1s 2ms/step - loss: 0.0157\n",
            "Epoch 77/100\n",
            "235/235 [==============================] - 1s 2ms/step - loss: 0.0156\n",
            "Epoch 78/100\n",
            "235/235 [==============================] - 1s 2ms/step - loss: 0.0155\n",
            "Epoch 79/100\n",
            "235/235 [==============================] - 1s 2ms/step - loss: 0.0154\n",
            "Epoch 80/100\n",
            "235/235 [==============================] - 1s 2ms/step - loss: 0.0153\n",
            "Epoch 81/100\n",
            "235/235 [==============================] - 1s 2ms/step - loss: 0.0152\n",
            "Epoch 82/100\n",
            "235/235 [==============================] - 1s 2ms/step - loss: 0.0151\n",
            "Epoch 83/100\n",
            "235/235 [==============================] - 1s 2ms/step - loss: 0.0150\n",
            "Epoch 84/100\n",
            "235/235 [==============================] - 1s 2ms/step - loss: 0.0149\n",
            "Epoch 85/100\n",
            "235/235 [==============================] - 1s 2ms/step - loss: 0.0148\n",
            "Epoch 86/100\n",
            "235/235 [==============================] - 1s 2ms/step - loss: 0.0147\n",
            "Epoch 87/100\n",
            "235/235 [==============================] - 1s 2ms/step - loss: 0.0146\n",
            "Epoch 88/100\n",
            "235/235 [==============================] - 1s 2ms/step - loss: 0.0145\n",
            "Epoch 89/100\n",
            "235/235 [==============================] - 1s 2ms/step - loss: 0.0144\n",
            "Epoch 90/100\n",
            "235/235 [==============================] - 1s 2ms/step - loss: 0.0143\n",
            "Epoch 91/100\n",
            "235/235 [==============================] - 1s 2ms/step - loss: 0.0142\n",
            "Epoch 92/100\n",
            "235/235 [==============================] - 1s 2ms/step - loss: 0.0141\n",
            "Epoch 93/100\n",
            "235/235 [==============================] - 1s 2ms/step - loss: 0.0141\n",
            "Epoch 94/100\n",
            "235/235 [==============================] - 1s 2ms/step - loss: 0.0140\n",
            "Epoch 95/100\n",
            "235/235 [==============================] - 1s 2ms/step - loss: 0.0139\n",
            "Epoch 96/100\n",
            "235/235 [==============================] - 1s 2ms/step - loss: 0.0138\n",
            "Epoch 97/100\n",
            "235/235 [==============================] - 1s 2ms/step - loss: 0.0137\n",
            "Epoch 98/100\n",
            "235/235 [==============================] - 1s 2ms/step - loss: 0.0137\n",
            "Epoch 99/100\n",
            "235/235 [==============================] - 1s 2ms/step - loss: 0.0136\n",
            "Epoch 100/100\n",
            "235/235 [==============================] - 1s 2ms/step - loss: 0.0135\n"
          ],
          "name": "stdout"
        },
        {
          "output_type": "execute_result",
          "data": {
            "text/plain": [
              "<tensorflow.python.keras.callbacks.History at 0x7f35d013d6a0>"
            ]
          },
          "metadata": {
            "tags": []
          },
          "execution_count": 40
        }
      ]
    },
    {
      "cell_type": "code",
      "metadata": {
        "id": "pdzHoE2ghpUU"
      },
      "source": [
        "reconstructed_image = autoencoder.predict(X_train_unsup[0].reshape(1, 784)).reshape(28,28)"
      ],
      "execution_count": null,
      "outputs": []
    },
    {
      "cell_type": "code",
      "metadata": {
        "id": "cP8gwINUI1r6",
        "colab": {
          "base_uri": "https://localhost:8080/",
          "height": 282
        },
        "outputId": "e41308ff-dafb-489d-af92-aa7d4d648325"
      },
      "source": [
        "from matplotlib import pyplot as plt\n",
        "%matplotlib inline\n",
        "plt.imshow(reconstructed_image)"
      ],
      "execution_count": null,
      "outputs": [
        {
          "output_type": "execute_result",
          "data": {
            "text/plain": [
              "<matplotlib.image.AxesImage at 0x7f35b853a5c0>"
            ]
          },
          "metadata": {
            "tags": []
          },
          "execution_count": 47
        },
        {
          "output_type": "display_data",
          "data": {
            "image/png": "[encoded data removed]",
            "text/plain": [
              "<Figure size 432x288 with 1 Axes>"
            ]
          },
          "metadata": {
            "tags": [],
            "needs_background": "light"
          }
        }
      ]
    },
    {
      "cell_type": "code",
      "metadata": {
        "id": "ae3QUjR-nSfs",
        "colab": {
          "base_uri": "https://localhost:8080/",
          "height": 282
        },
        "outputId": "d925aeef-1d30-4976-d731-00fd26a1e4c4"
      },
      "source": [
        "original_image = X_train_unsup[0].reshape(28,28)\n",
        "\n",
        "plt.imshow(original_image)"
      ],
      "execution_count": null,
      "outputs": [
        {
          "output_type": "execute_result",
          "data": {
            "text/plain": [
              "<matplotlib.image.AxesImage at 0x7f35b84bf518>"
            ]
          },
          "metadata": {
            "tags": []
          },
          "execution_count": 48
        },
        {
          "output_type": "display_data",
          "data": {
            "image/png": "[encoded data removed]",
            "text/plain": [
              "<Figure size 432x288 with 1 Axes>"
            ]
          },
          "metadata": {
            "tags": [],
            "needs_background": "light"
          }
        }
      ]
    },
    {
      "cell_type": "markdown",
      "metadata": {
        "id": "IrjZl6UpNIdS"
      },
      "source": [
        "## Classification using Transfer Learning"
      ]
    },
    {
      "cell_type": "code",
      "metadata": {
        "id": "NAztglF62z_i"
      },
      "source": [
        "# mark all layers as non-trainable\n",
        "for layer in autoencoder.layers:\n",
        "  layer.trainable = False"
      ],
      "execution_count": null,
      "outputs": []
    },
    {
      "cell_type": "code",
      "metadata": {
        "id": "_LsOtxrp52hO",
        "colab": {
          "base_uri": "https://localhost:8080/"
        },
        "outputId": "4311c926-a89e-480d-d8b9-e80edb3d318f"
      },
      "source": [
        "model = Dense(100, activation='relu')(autoencoder.layers[-3].output)\n",
        "predictions = Dense(10, activation='softmax')(model)\n",
        "\n",
        "model = Model(inputs=autoencoder.inputs, outputs=predictions)\n",
        "\n",
        "model.summary()"
      ],
      "execution_count": null,
      "outputs": [
        {
          "output_type": "stream",
          "text": [
            "Model: \"functional_9\"\n",
            "_________________________________________________________________\n",
            "Layer (type)                 Output Shape              Param #   \n",
            "=================================================================\n",
            "input_2 (InputLayer)         [(None, 784)]             0         \n",
            "_________________________________________________________________\n",
            "dense_4 (Dense)              (None, 500)               392500    \n",
            "_________________________________________________________________\n",
            "dense_5 (Dense)              (None, 250)               125250    \n",
            "_________________________________________________________________\n",
            "dense_12 (Dense)             (None, 100)               25100     \n",
            "_________________________________________________________________\n",
            "dense_13 (Dense)             (None, 10)                1010      \n",
            "=================================================================\n",
            "Total params: 543,860\n",
            "Trainable params: 26,110\n",
            "Non-trainable params: 517,750\n",
            "_________________________________________________________________\n"
          ],
          "name": "stdout"
        }
      ]
    },
    {
      "cell_type": "markdown",
      "metadata": {
        "id": "vkkwP5X8XmqG"
      },
      "source": [
        "### One-hot encoding"
      ]
    },
    {
      "cell_type": "code",
      "metadata": {
        "id": "_hqrhuccPjTt"
      },
      "source": [
        "# Convert 1-dimensional class arrays to 10-dimensional class matrices\n",
        "Y_train_sup = np_utils.to_categorical(y_train_sup, 10)\n",
        "Y_test = np_utils.to_categorical(y_test, 10)"
      ],
      "execution_count": null,
      "outputs": []
    },
    {
      "cell_type": "code",
      "metadata": {
        "id": "_rE5JuwiPjV-",
        "colab": {
          "base_uri": "https://localhost:8080/"
        },
        "outputId": "e9e7ac6d-b238-4c8d-b509-b92f63d3e432"
      },
      "source": [
        "Y_train_sup[:10]"
      ],
      "execution_count": null,
      "outputs": [
        {
          "output_type": "execute_result",
          "data": {
            "text/plain": [
              "array([[0., 0., 0., 0., 1., 0., 0., 0., 0., 0.],\n",
              "       [0., 0., 0., 0., 0., 0., 0., 0., 0., 1.],\n",
              "       [0., 0., 0., 0., 0., 0., 0., 0., 1., 0.],\n",
              "       [0., 0., 0., 0., 0., 0., 0., 0., 0., 1.],\n",
              "       [0., 0., 1., 0., 0., 0., 0., 0., 0., 0.],\n",
              "       [1., 0., 0., 0., 0., 0., 0., 0., 0., 0.],\n",
              "       [1., 0., 0., 0., 0., 0., 0., 0., 0., 0.],\n",
              "       [0., 0., 0., 0., 0., 1., 0., 0., 0., 0.],\n",
              "       [0., 0., 0., 0., 0., 0., 0., 0., 1., 0.],\n",
              "       [0., 0., 0., 0., 0., 0., 0., 0., 1., 0.]], dtype=float32)"
            ]
          },
          "metadata": {
            "tags": []
          },
          "execution_count": 58
        }
      ]
    },
    {
      "cell_type": "code",
      "metadata": {
        "id": "xJtg2vM0GjZV",
        "colab": {
          "base_uri": "https://localhost:8080/"
        },
        "outputId": "49a10f70-7678-4e2b-91bf-213cbbb74cd1"
      },
      "source": [
        "Y_test[:10]"
      ],
      "execution_count": null,
      "outputs": [
        {
          "output_type": "execute_result",
          "data": {
            "text/plain": [
              "array([[0., 0., 0., 0., 0., 0., 0., 1., 0., 0.],\n",
              "       [0., 0., 1., 0., 0., 0., 0., 0., 0., 0.],\n",
              "       [0., 1., 0., 0., 0., 0., 0., 0., 0., 0.],\n",
              "       [1., 0., 0., 0., 0., 0., 0., 0., 0., 0.],\n",
              "       [0., 0., 0., 0., 1., 0., 0., 0., 0., 0.],\n",
              "       [0., 1., 0., 0., 0., 0., 0., 0., 0., 0.],\n",
              "       [0., 0., 0., 0., 1., 0., 0., 0., 0., 0.],\n",
              "       [0., 0., 0., 0., 0., 0., 0., 0., 0., 1.],\n",
              "       [0., 0., 0., 0., 0., 1., 0., 0., 0., 0.],\n",
              "       [0., 0., 0., 0., 0., 0., 0., 0., 0., 1.]], dtype=float32)"
            ]
          },
          "metadata": {
            "tags": []
          },
          "execution_count": 59
        }
      ]
    },
    {
      "cell_type": "markdown",
      "metadata": {
        "id": "G7j4qtUvgdeW"
      },
      "source": [
        "### Model compiling and fitting"
      ]
    },
    {
      "cell_type": "code",
      "metadata": {
        "id": "CWG4XjizAYee"
      },
      "source": [
        "model.compile(loss='categorical_crossentropy', optimizer=SGD(lr=0.01, momentum=0.9), metrics=['accuracy'])"
      ],
      "execution_count": null,
      "outputs": []
    },
    {
      "cell_type": "code",
      "metadata": {
        "id": "UmzhDY1MAoSq",
        "colab": {
          "base_uri": "https://localhost:8080/"
        },
        "outputId": "69469a5c-b851-4b6d-95f6-71daaabdae5c"
      },
      "source": [
        "# fit model\n",
        "model.fit(X_train_sup, Y_train_sup, epochs=10, validation_data=(X_test, Y_test))"
      ],
      "execution_count": null,
      "outputs": [
        {
          "output_type": "stream",
          "text": [
            "Epoch 1/10\n",
            "938/938 [==============================] - 3s 3ms/step - loss: 0.4574 - accuracy: 0.8711 - val_loss: 0.2601 - val_accuracy: 0.9272\n",
            "Epoch 2/10\n",
            "938/938 [==============================] - 3s 3ms/step - loss: 0.2348 - accuracy: 0.9319 - val_loss: 0.2035 - val_accuracy: 0.9410\n",
            "Epoch 3/10\n",
            "938/938 [==============================] - 3s 3ms/step - loss: 0.1815 - accuracy: 0.9470 - val_loss: 0.1704 - val_accuracy: 0.9506\n",
            "Epoch 4/10\n",
            "938/938 [==============================] - 3s 3ms/step - loss: 0.1495 - accuracy: 0.9568 - val_loss: 0.1472 - val_accuracy: 0.9565\n",
            "Epoch 5/10\n",
            "938/938 [==============================] - 3s 3ms/step - loss: 0.1262 - accuracy: 0.9645 - val_loss: 0.1355 - val_accuracy: 0.9591\n",
            "Epoch 6/10\n",
            "938/938 [==============================] - 3s 3ms/step - loss: 0.1096 - accuracy: 0.9685 - val_loss: 0.1255 - val_accuracy: 0.9637\n",
            "Epoch 7/10\n",
            "938/938 [==============================] - 3s 3ms/step - loss: 0.0964 - accuracy: 0.9725 - val_loss: 0.1178 - val_accuracy: 0.9657\n",
            "Epoch 8/10\n",
            "938/938 [==============================] - 3s 3ms/step - loss: 0.0861 - accuracy: 0.9760 - val_loss: 0.1101 - val_accuracy: 0.9673\n",
            "Epoch 9/10\n",
            "938/938 [==============================] - 3s 3ms/step - loss: 0.0773 - accuracy: 0.9785 - val_loss: 0.1046 - val_accuracy: 0.9690\n",
            "Epoch 10/10\n",
            "938/938 [==============================] - 3s 3ms/step - loss: 0.0701 - accuracy: 0.9807 - val_loss: 0.1065 - val_accuracy: 0.9685\n"
          ],
          "name": "stdout"
        },
        {
          "output_type": "execute_result",
          "data": {
            "text/plain": [
              "<tensorflow.python.keras.callbacks.History at 0x7f35b8452f60>"
            ]
          },
          "metadata": {
            "tags": []
          },
          "execution_count": 61
        }
      ]
    }
  ]
}