{
 "cells": [
  {
   "cell_type": "markdown",
   "metadata": {
    "colab_type": "text",
    "id": "5gAx6ztaQJrK"
   },
   "source": [
    "# Back-Propagation"
   ]
  },
  {
   "cell_type": "markdown",
   "metadata": {
    "colab_type": "text",
    "id": "5gAx6ztaQJrK"
   },
   "source": [
    "![Imgur](https://i.imgur.com/fWYI0TY.jpg)"
   ]
  },
  {
   "cell_type": "markdown",
   "metadata": {
    "colab_type": "text",
    "id": "5gAx6ztaQJrK"
   },
   "source": [
    "## Overview"
   ]
  },
  {
   "cell_type": "markdown",
   "metadata": {
    "colab_type": "text",
    "id": "5gAx6ztaQJrK"
   },
   "source": [
    "In this post, we will build a neural network with three layers:\n",
    "\n",
    "\n",
    "*   Input layer with two inputs neurons  \n",
    "*   One hidden layer with two neurons (activation - relu)\n",
    "*   Output layer with a single neuron\n",
    "\n",
    "![Imgur](https://i.imgur.com/JcN0Qzc.jpg)"
   ]
  },
  {
   "cell_type": "markdown",
   "metadata": {
    "colab_type": "text",
    "heading_collapsed": true,
    "id": "5gAx6ztaQJrK"
   },
   "source": [
    "## Weights, weights, weights"
   ]
  },
  {
   "cell_type": "markdown",
   "metadata": {
    "colab_type": "text",
    "hidden": true,
    "id": "5gAx6ztaQJrK"
   },
   "source": [
    "Neural network training is about finding weights that minimize prediction error. We usually start our training with a set of randomly generated weights.Then, backpropagation is used to update the weights in an attempt to correctly map arbitrary inputs to outputs.\n",
    "\n",
    "Our initial weights will be as following: w1 = 0.12, w2 = 0.33, w3 = 0.15, w4 = 0.09, w5 = 0.11 and w6 = 0.12\n",
    "\n",
    "![Imgur](https://i.imgur.com/WryGHvt.jpg)"
   ]
  },
  {
   "cell_type": "markdown",
   "metadata": {
    "colab_type": "text",
    "heading_collapsed": true,
    "id": "5gAx6ztaQJrK"
   },
   "source": [
    "## Dataset"
   ]
  },
  {
   "cell_type": "markdown",
   "metadata": {
    "colab_type": "text",
    "hidden": true,
    "id": "5gAx6ztaQJrK"
   },
   "source": [
    "Our dataset has one sample with two inputs and one output.\n",
    "\n",
    "![Imgur](https://i.imgur.com/PMor3Se.jpg)\n",
    "\n",
    "Our single sample is as following inputs= [2, 3] and output=[1].\n",
    "\n",
    "![Imgur](https://i.imgur.com/WTFEUDY.jpg)"
   ]
  },
  {
   "cell_type": "markdown",
   "metadata": {
    "colab_type": "text",
    "heading_collapsed": true,
    "id": "5gAx6ztaQJrK"
   },
   "source": [
    "## Forward Pass"
   ]
  },
  {
   "cell_type": "markdown",
   "metadata": {
    "colab_type": "text",
    "hidden": true,
    "id": "5gAx6ztaQJrK"
   },
   "source": [
    "We will use given weights and inputs to predict the output. Inputs are multiplied by weights; the results are then passed forward to next layer.\n",
    "\n",
    "![Imgur](https://i.imgur.com/Ml6nF58.jpg)"
   ]
  },
  {
   "cell_type": "markdown",
   "metadata": {
    "colab_type": "text",
    "hidden": true,
    "id": "5gAx6ztaQJrK"
   },
   "source": [
    "\\begin{equation*}\n",
    "\\begin{bmatrix}\\color{gold}{2} & \\color{gold}{3} \\end{bmatrix} . \\begin{bmatrix}\\color{royalblue}{0.12} & \\color{orange}{0.15} \\\\ \\color{royalblue}{0.33} & \\color{orange}{0.09} \\end{bmatrix} = \\begin{bmatrix}\\color{deepskyblue}{1.23} & \\color{deepskyblue}{0.57} \\end{bmatrix} . \\begin{bmatrix}\\color{darkgray}{0.11} \\\\ \\color{darkgray}{0.12} \\end{bmatrix} = \\begin{bmatrix}\\color{lightgreen}{0.2037} \\end{bmatrix}\n",
    "\\end{equation*}\n",
    "\n",
    "<center>$\\color{gold}2*\\color{royalblue}{0.12} + \\color{gold}3*\\color{royalblue}{0.33} = \\color{deepskyblue}{1.23}$</center>\n",
    "\n",
    "<center>$\\color{gold}2*\\color{orange}{0.15} + \\color{gold}3*\\color{orange}{0.09} = \\color{deepskyblue}{0.57}$</center>\n",
    "\n",
    "<center> $\\color{deepskyblue}{1.23}*\\color{darkgray}{0.11} + \\color{deepskyblue}{0.57}*\\color{darkgray}{0.12} = \\color{lightgreen}{0.2037}$</center>"
   ]
  },
  {
   "cell_type": "markdown",
   "metadata": {
    "colab_type": "text",
    "heading_collapsed": true,
    "id": "5gAx6ztaQJrK"
   },
   "source": [
    "## Calculating Error"
   ]
  },
  {
   "cell_type": "markdown",
   "metadata": {
    "colab_type": "text",
    "hidden": true,
    "id": "5gAx6ztaQJrK"
   },
   "source": [
    "Now, it’s time to find out how our network performed by calculating the difference between the actual output and predicted one. It’s clear that our network output, or **prediction**, is not even close to **actual output**. We can calculate the difference or the error as following.\n",
    "\n",
    "\n",
    "![Imgur](https://i.imgur.com/vZ2wzbY.jpg)"
   ]
  },
  {
   "cell_type": "markdown",
   "metadata": {
    "colab_type": "text",
    "id": "5gAx6ztaQJrK"
   },
   "source": [
    "## Reducing Error"
   ]
  },
  {
   "cell_type": "markdown",
   "metadata": {
    "colab_type": "text",
    "id": "5gAx6ztaQJrK"
   },
   "source": [
    "Our main goal of the training is to reduce the **error** or the difference between **prediction** and **actual output**. Since **actual output** is constant, “not changing”, the only way to reduce the error is to change **prediction** value. The question now is, how to change **prediction** value?\n",
    "\n",
    "By decomposing **prediction** into its basic elements we can find that **weights** are the variable elements affecting **prediction** value. In other words, in order to change **prediction** value, we need to change **weights** values.\n",
    "\n",
    "\n",
    "![Imgur](https://i.imgur.com/4JOCvy5.jpg)\n",
    "\n",
    "\n",
    "The question now is **how to change\\update the weights value so that the error is reduced?**\n",
    "\n",
    "The answer is **Backpropagation!**"
   ]
  },
  {
   "cell_type": "markdown",
   "metadata": {
    "colab_type": "text",
    "id": "5gAx6ztaQJrK"
   },
   "source": [
    "## Backpropagation"
   ]
  },
  {
   "cell_type": "markdown",
   "metadata": {
    "colab_type": "text",
    "id": "5gAx6ztaQJrK"
   },
   "source": [
    "**Backpropagation**, short for “backward propagation of errors”, is a mechanism used to update the weights using [gradient descent](https://en.wikipedia.org/wiki/Gradient_descent). It calculates the gradient of the error function with respect to the neural network’s weights. The calculation proceeds backwards through the network.\n",
    "\n",
    "**Gradient descent** is an iterative optimization algorithm for finding the minimum of a function; in our case we want to minimize the error function. To find a local minimum of a function using gradient descent, one takes steps proportional to the negative of the gradient of the function at the current point.\n",
    "\n",
    "![Imgur](https://i.imgur.com/LfQEuDo.jpg)\n",
    "\n",
    "\n",
    "\\begin{equation*}\n",
    "^*{W}_X = {W}_X - \\color{gold}a (\\frac{\\partial{Error}}  {\\partial{W_X}})\n",
    "\\end{equation*}\n",
    "\n",
    "\n",
    "\n",
    "\n",
    "For example, to update w6, we take the current w6 and subtract the partial derivative of **error** function with respect to w6. Optionally, we multiply the derivative of the **error** function by a selected number to make sure that the new updated **weight** is minimizing the error function; this number is called **learning rate.**\n",
    "\n",
    "\n",
    "\\begin{equation*}\n",
    "^*{W}_6 = {W}_6 - \\color{gold}a (\\frac{\\partial{Error}}  {\\partial{W_6}})\n",
    "\\end{equation*}\n",
    "\n",
    "\n",
    "The derivation of the error function is evaluated by applying the chain rule as following:\n",
    "\n",
    "$\\frac{\\partial{Error}}  {\\partial{W_6}} = \\frac{\\partial{Error}}  {\\partial{prediction}} * \\frac{\\partial{prediction}}  {\\partial{W_6}}$  &emsp;&emsp;&emsp; Chain Rule\n",
    "\n",
    "$\\frac{\\partial{Error}}  {\\partial{W_6}} = \\frac{\\partial\\frac{1}{2}{(prediction-actual)}^2}{\\partial{prediction}}  * \\frac{\\partial(\\color{gold}{{i}_1}\\color{royalblue}{{w}_1} + \\color{gold}{{i}_2}\\color{royalblue}{{w}_2})\\color{darkgray}{{w}_5} + (\\color{gold}{{i}_1}\\color{orange}{{w}_3} + \\color{gold}{{i}_2}\\color{orange}{{w}_4})\\color{darkgray}{{w}_6}} {\\partial{W_6}}$\n",
    "\n",
    "$\\frac{\\partial{Error}}  {\\partial{W_6}} = 2 * \\frac{1}{2}(prediction - actual)\\frac{{\\partial(prediction-actual)}}{\\partial{prediction}}  * (\\color{gold}{{i}_1}\\color{orange}{{w}_3} + \\color{gold}{{i}_2}\\color{orange}{{w}_4}) $\n",
    "\n",
    "$\\frac{\\partial{Error}}  {\\partial{W_6}} = (prediction - actual) * (\\color{deepskyblue}{{h}_2})$\n",
    "\n",
    "$\\frac{\\partial{Error}}  {\\partial{W_6}} =\\Delta\\color{deepskyblue}{{h}_2}$\n",
    "\n",
    "\n",
    "So to update w6 we can apply the following formula\n",
    "\n",
    "\\begin{equation*}\n",
    "^*{W}_6 = {W}_6 - \\color{gold}a \\Delta \\color{deepskyblue}{{h}_2}\n",
    "\\end{equation*}\n",
    "\n",
    "\n",
    "Similarly, we can derive the update formula for w5 and any other weights existing between the output and the hidden layer.\n",
    "\n",
    "\\begin{equation*}\n",
    "^*{W}_5 = {W}_5 - \\color{gold}a \\Delta\\color{deepskyblue}{{h}_1}\n",
    "\\end{equation*}\n",
    "\n",
    "\n",
    "However, when moving backward to update w1, w2, w3 and w4 existing between input and hidden layer, the partial derivative for the error function with respect to w1, for example, will be as following.\n",
    "\n",
    "\n",
    "$\\frac{\\partial{Error}}  {\\partial{W_1}} = \\frac{\\partial{Error}}  {\\partial{prediction}} * \\frac{\\partial{prediction}}  {\\partial{h_1}} * \\frac{\\partial{h}_1}  {\\partial{W_1}}$  &emsp;&emsp;&emsp; Chain Rule\n",
    "\n",
    "$\\frac{\\partial{Error}}  {\\partial{W_1}} = \\frac{\\frac{1}{2}{(prediction-actual)}^2}{\\partial{prediction}}  * \\frac{\\partial(\\color{deepskyblue}{{h}_1})\\color{darkgray}{{w}_5}+(\\color{deepskyblue}{{h}_2})\\color{darkgray}{{w}_6}} {\\partial{h_1}} * \\frac{\\partial(\\color{gold}{{i}_1})\\color{royalblue}{{w}_1}+(\\color{gold}{{i}_2})\\color{royalblue}{{w}_2}} {\\partial{w_1}} $\n",
    "\n",
    "$\\frac{\\partial{Error}}  {\\partial{W_1}} = 2 * \\frac{1}{2}(prediction - actual)\\frac{{\\partial(prediction-actual)}}{\\partial{prediction}}  * (\\color{darkgray}{{w}_5)} * (\\color{gold}{{i}_1}) $\n",
    "\n",
    "$\\frac{\\partial{Error}}  {\\partial{W_1}} = (prediction - actual) * (\\color{darkgray}{{w}_5}\\color{gold}{{i}_1}) $\n",
    "\n",
    "$\\frac{\\partial{Error}}  {\\partial{W_1}} =\\Delta\\color{darkgray}{{w}_5}\\color{gold}{{i}_1}$\n",
    "\n",
    "\n",
    "\n",
    "We can find the update formula for the remaining weights w2, w3 and w4 in the same way.\n",
    "\n",
    "In summary, the update formulas for all weights will be as following:\n",
    "\n",
    "\\begin{equation*}\n",
    "^*\\color{darkgray}{{w}_6} = \\color{darkgray}{{w}_6} - \\color{brown}a ( \\color{deepskyblue}{h_2}.\\Delta) \\\\ ^*\\color{darkgray}{{w}_5} = \\color{darkgray}{{w}_5} - \\color{brown}a ( \\color{deepskyblue}{h_1}.\\Delta) \\\\ ^*\\color{orange}{w_4} = \\color{orange}{w_4} - \\color{brown} a ( \\color{gold}{i_2}.\\Delta\\color{darkgray}{w_6} ) \\\\ ^*\\color{orange}{w_3} = \\color{orange}{w_3} - \\color{brown}a (\\color{gold}{i_1}.\\Delta\\color{darkgray}{w_6} )  \\\\ ^*\\color{royalblue}{w_2} = \\color{royalblue}{w_2} - \\color{brown}a (\\color{gold}{i_2}.\\Delta\\color{darkgray}{w_5}) \\\\ \\\\ ^*\\color{royalblue}{w_1} = \\color{royalblue}{w_1} - \\color{brown}a (\\color{gold}{i_1}.\\Delta\\color{darkgray}{w_5)} \n",
    "\\end{equation*}\n",
    "\n",
    "We can rewrite the update formulas in matrices as following\n",
    "\n",
    "\n",
    "\\begin{equation*}\n",
    "\\begin{bmatrix}\\color{darkgray}{w_5} \\\\ \\color{darkgray}{w_6} \\end{bmatrix} =  \\begin{bmatrix}\\color{darkgray}{w_5} \\\\ \\color{darkgray}{w_6} \\end{bmatrix} - \\color{brown}a \\Delta\\begin{bmatrix}\\color{deepskyblue}{h_1} \\\\ \\color{deepskyblue}{h_2} \\end{bmatrix} = \\begin{bmatrix}\\color{darkgray}{w_5} \\\\ \\color{darkgray}{w_6} \\end{bmatrix} - \\begin{bmatrix}\\color{brown}a\\Delta\\color{deepskyblue}{h_1} \\\\ \\color{brown}a\\Delta\\color{deepskyblue}{h_2} \\end{bmatrix} \n",
    "\\end{equation*}\n",
    "\n",
    "\\begin{equation*}\n",
    "\\begin{bmatrix}\\color{royalblue}{w_1} & \\color{orange}{w_3}  \\\\ \\color{royalblue}{w_2} & \\color{orange}{w_4}\\end{bmatrix} =  \\begin{bmatrix}\\color{royalblue}{w_1} & \\color{orange}{w_3}  \\\\ \\color{royalblue}{w_2} & \\color{orange}{w_4}\\end{bmatrix} - \\color{brown}a \\Delta\\begin{bmatrix}\\color{gold}{i_1} \\\\ \\color{gold}{i_2} \\end{bmatrix} . \\begin{bmatrix}\\color{darkgray}{w_5} & \\color{darkgray}{w_6} \\end{bmatrix} =\\begin{bmatrix}\\color{royalblue}{w_1} & \\color{orange}{w_3}  \\\\ \\color{royalblue}{w_2} & \\color{orange}{w_4}\\end{bmatrix} - \\begin{bmatrix}\\color{brown}a\\color{gold}{i_1}\\Delta\\color{darkgray}{w_5} & \\color{brown}a\\color{gold}{i_1}\\Delta\\color{darkgray}{w_6}  \\\\ \\color{brown}a\\color{gold}{i_2}\\Delta\\color{darkgray}{w_5} & \\color{brown}a\\color{gold}{i_2}\\Delta\\color{darkgray}{w_6} \\end{bmatrix} \n",
    "\\end{equation*}"
   ]
  },
  {
   "cell_type": "markdown",
   "metadata": {
    "colab_type": "text",
    "id": "5gAx6ztaQJrK"
   },
   "source": [
    "## Backward Pass"
   ]
  },
  {
   "cell_type": "markdown",
   "metadata": {
    "colab_type": "text",
    "id": "5gAx6ztaQJrK"
   },
   "source": [
    "Using derived formulas we can find the new weights.\n",
    "\n",
    "\n",
    "Learning rate: is a hyperparameter which means that we need to manually guess its value.\n",
    "\n",
    "\n",
    "$\\Delta = 0.2037-1 = -0.7963$  &emsp;&emsp;&emsp; Delta = prediction - actual \\\\\n",
    "\n",
    "\n",
    "$a=0.05$  &emsp;&emsp;&emsp; **Learning Rate,** we smartly guess this number \n",
    "\n",
    "\n",
    "\n",
    "$ \\begin{bmatrix}\\color{darkgray}{w_5} \\\\ \\color{darkgray}{w_6} \\end{bmatrix} =  \\begin{bmatrix}\\color{darkgray}{0.11} \\\\ \\color{darkgray}{0.12} \\end{bmatrix} - \\color{brown}{0.05} (-0.7963)\\begin{bmatrix}\\color{deepskyblue}{1.23} \\\\ \\color{deepskyblue}{ 0.57} \\end{bmatrix} = \\begin{bmatrix}\\color{darkgray}{0.11} \\\\ \\color{darkgray}{0.12} \\end{bmatrix} - \\begin{bmatrix}-0.0478 \\\\ -0.0222 \\end{bmatrix} = \\begin{bmatrix}\\color{darkgray}{0.16} \\\\ \\color{darkgray}{0.14} \\end{bmatrix}$ \n",
    "\n",
    "$\n",
    " \\begin{bmatrix}\\color{royalblue}{w_1} & \\color{orange}{w_3}  \\\\ \\color{royalblue}{w_2} & \\color{orange}{w_4}\\end{bmatrix} = \\begin{bmatrix}\\color{royalblue}{0.12} & \\color{orange}{0.15} \\\\ \\color{royalblue}{0.33} & \\color{orange}{0.09}\\end{bmatrix} - \\color{brown}{0.05}(-0.7963)\\begin{bmatrix}\\color{gold}2 \\\\ \\color{gold}3 \\end{bmatrix} . \\begin{bmatrix}\\color{darkgray}{0.11} & \\color{darkgray}{0.12} \\end{bmatrix} = \\begin{bmatrix}\\color{royalblue}{0.12} & \\color{orange}{0.15} \\\\ \\color{royalblue}{0.33} & \\color{orange}{0.09}\\end{bmatrix}  - \\begin{bmatrix}-0.008 & -0.009  \\\\ -0.013 & -0.014 \\end{bmatrix} = \\begin{bmatrix}\\color{royalblue}{0.13} & \\color{orange}{0.16} \\\\ \\color{royalblue}{0.34} & \\color{orange}{0.10}\\end{bmatrix}\n",
    "$\n",
    "\n",
    "Now, using the new **weights** we will repeat the forward passed\n",
    "\n",
    "\n",
    "![Imgur](https://i.imgur.com/I86uHwE.jpg)\n",
    "\n",
    "\n",
    "\\begin{equation*}\n",
    "\\begin{bmatrix}\\color{gold}{2} & \\color{gold}{3} \\end{bmatrix} . \\begin{bmatrix}\\color{royalblue}{0.13} & \\color{orange}{0.16} \\\\ \\color{royalblue}{0.34} & \\color{orange}{0.1} \\end{bmatrix} = \\begin{bmatrix}\\color{deepskyblue}{1.29} & \\color{deepskyblue}{0.63} \\end{bmatrix} . \\begin{bmatrix}\\color{darkgray}{0.16} \\\\ \\color{darkgray}{0.14} \\end{bmatrix} = \\begin{bmatrix}\\color{lightgreen}{0.29} \\end{bmatrix}\n",
    "\\end{equation*}\n",
    "\n",
    "\n",
    "\n",
    "We can notice that the **prediction** 0.29 is a little bit closer to **actual output** than the previously predicted one 0.2037. We can repeat the same process of backward and forward pass until **error** is close or equal to zero."
   ]
  }
 ],
 "metadata": {
  "colab": {
   "collapsed_sections": [],
   "name": "Assignment_2.ipynb",
   "provenance": [],
   "version": "0.3.2"
  },
  "kernelspec": {
   "display_name": "Python 3",
   "language": "python",
   "name": "python3"
  },
  "language_info": {
   "codemirror_mode": {
    "name": "ipython",
    "version": 3
   },
   "file_extension": ".py",
   "mimetype": "text/x-python",
   "name": "python",
   "nbconvert_exporter": "python",
   "pygments_lexer": "ipython3",
   "version": "3.6.8"
  }
 },
 "nbformat": 4,
 "nbformat_minor": 1
}
